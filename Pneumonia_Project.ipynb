{
 "cells": [
  {
   "cell_type": "code",
   "execution_count": 1,
   "id": "be1807c5",
   "metadata": {},
   "outputs": [],
   "source": [
    "import numpy as np\n",
    "import pandas as pd\n",
    "import matplotlib.pyplot as plt"
   ]
  },
  {
   "cell_type": "code",
   "execution_count": 30,
   "id": "632d6b5f",
   "metadata": {},
   "outputs": [],
   "source": [
    "import tensorflow as tf\n",
    "from tensorflow import keras\n",
    "from keras.applications.vgg16 import VGG16\n",
    "from keras.applications.vgg16 import preprocess_input\n",
    "from tensorflow.keras.preprocessing import image\n",
    "from keras.preprocessing.image import ImageDataGenerator\n",
    "from keras.layers import Dense,Flatten,Input\n",
    "from keras.models import Model\n",
    "from glob import glob"
   ]
  },
  {
   "cell_type": "code",
   "execution_count": 3,
   "id": "a3935478",
   "metadata": {},
   "outputs": [],
   "source": [
    "train_path=\"dataset/train\"\n",
    "val_path=\"dataset/val\""
   ]
  },
  {
   "cell_type": "code",
   "execution_count": 4,
   "id": "75d5dd30",
   "metadata": {},
   "outputs": [],
   "source": [
    "folders=glob(\"dataset/train/*\")"
   ]
  },
  {
   "cell_type": "code",
   "execution_count": 5,
   "id": "fd9298d8",
   "metadata": {},
   "outputs": [
    {
     "data": {
      "text/plain": [
       "['dataset/train\\\\NORMAL', 'dataset/train\\\\PNEUMONIA']"
      ]
     },
     "execution_count": 5,
     "metadata": {},
     "output_type": "execute_result"
    }
   ],
   "source": [
    "folders"
   ]
  },
  {
   "cell_type": "code",
   "execution_count": 6,
   "id": "c45df3fe",
   "metadata": {},
   "outputs": [],
   "source": [
    "img_size=[224,224]"
   ]
  },
  {
   "cell_type": "code",
   "execution_count": 7,
   "id": "28e2d1d4",
   "metadata": {},
   "outputs": [],
   "source": [
    "vgg=VGG16(input_shape=img_size + [3], weights='imagenet', include_top=False)"
   ]
  },
  {
   "cell_type": "code",
   "execution_count": 8,
   "id": "45b1d394",
   "metadata": {},
   "outputs": [],
   "source": [
    "for layer in vgg.layers:\n",
    "    layer.trainable = False"
   ]
  },
  {
   "cell_type": "code",
   "execution_count": 9,
   "id": "a1dddc77",
   "metadata": {},
   "outputs": [],
   "source": [
    "x = Flatten()(vgg.output)"
   ]
  },
  {
   "cell_type": "code",
   "execution_count": 10,
   "id": "0d3325ae",
   "metadata": {},
   "outputs": [],
   "source": [
    "prediction = Dense(len(folders), activation='softmax')(x)\n",
    "model = Model(inputs=vgg.input, outputs=prediction)\n"
   ]
  },
  {
   "cell_type": "code",
   "execution_count": 11,
   "id": "3d359348",
   "metadata": {},
   "outputs": [
    {
     "name": "stdout",
     "output_type": "stream",
     "text": [
      "Model: \"model\"\n",
      "_________________________________________________________________\n",
      " Layer (type)                Output Shape              Param #   \n",
      "=================================================================\n",
      " input_1 (InputLayer)        [(None, 224, 224, 3)]     0         \n",
      "                                                                 \n",
      " block1_conv1 (Conv2D)       (None, 224, 224, 64)      1792      \n",
      "                                                                 \n",
      " block1_conv2 (Conv2D)       (None, 224, 224, 64)      36928     \n",
      "                                                                 \n",
      " block1_pool (MaxPooling2D)  (None, 112, 112, 64)      0         \n",
      "                                                                 \n",
      " block2_conv1 (Conv2D)       (None, 112, 112, 128)     73856     \n",
      "                                                                 \n",
      " block2_conv2 (Conv2D)       (None, 112, 112, 128)     147584    \n",
      "                                                                 \n",
      " block2_pool (MaxPooling2D)  (None, 56, 56, 128)       0         \n",
      "                                                                 \n",
      " block3_conv1 (Conv2D)       (None, 56, 56, 256)       295168    \n",
      "                                                                 \n",
      " block3_conv2 (Conv2D)       (None, 56, 56, 256)       590080    \n",
      "                                                                 \n",
      " block3_conv3 (Conv2D)       (None, 56, 56, 256)       590080    \n",
      "                                                                 \n",
      " block3_pool (MaxPooling2D)  (None, 28, 28, 256)       0         \n",
      "                                                                 \n",
      " block4_conv1 (Conv2D)       (None, 28, 28, 512)       1180160   \n",
      "                                                                 \n",
      " block4_conv2 (Conv2D)       (None, 28, 28, 512)       2359808   \n",
      "                                                                 \n",
      " block4_conv3 (Conv2D)       (None, 28, 28, 512)       2359808   \n",
      "                                                                 \n",
      " block4_pool (MaxPooling2D)  (None, 14, 14, 512)       0         \n",
      "                                                                 \n",
      " block5_conv1 (Conv2D)       (None, 14, 14, 512)       2359808   \n",
      "                                                                 \n",
      " block5_conv2 (Conv2D)       (None, 14, 14, 512)       2359808   \n",
      "                                                                 \n",
      " block5_conv3 (Conv2D)       (None, 14, 14, 512)       2359808   \n",
      "                                                                 \n",
      " block5_pool (MaxPooling2D)  (None, 7, 7, 512)         0         \n",
      "                                                                 \n",
      " flatten (Flatten)           (None, 25088)             0         \n",
      "                                                                 \n",
      " dense (Dense)               (None, 2)                 50178     \n",
      "                                                                 \n",
      "=================================================================\n",
      "Total params: 14764866 (56.32 MB)\n",
      "Trainable params: 50178 (196.01 KB)\n",
      "Non-trainable params: 14714688 (56.13 MB)\n",
      "_________________________________________________________________\n"
     ]
    }
   ],
   "source": [
    "model.summary()"
   ]
  },
  {
   "cell_type": "code",
   "execution_count": 12,
   "id": "e78ad1b8",
   "metadata": {},
   "outputs": [],
   "source": [
    "model.compile(optimizer=\"adam\",loss='categorical_crossentropy',metrics=['accuracy'])"
   ]
  },
  {
   "cell_type": "code",
   "execution_count": 13,
   "id": "23bc3d05",
   "metadata": {},
   "outputs": [],
   "source": [
    "train_datagen = ImageDataGenerator(rescale = 1./255,\n",
    "                                   shear_range = 0.2,\n",
    "                                   zoom_range = 0.2,\n",
    "                                   horizontal_flip = True)"
   ]
  },
  {
   "cell_type": "code",
   "execution_count": 14,
   "id": "4c820b24",
   "metadata": {},
   "outputs": [],
   "source": [
    "test_datagen = ImageDataGenerator(rescale = 1./255)"
   ]
  },
  {
   "cell_type": "code",
   "execution_count": 15,
   "id": "f9968e39",
   "metadata": {},
   "outputs": [
    {
     "name": "stdout",
     "output_type": "stream",
     "text": [
      "Found 5216 images belonging to 2 classes.\n",
      "Found 624 images belonging to 2 classes.\n"
     ]
    }
   ],
   "source": [
    "training_set = train_datagen.flow_from_directory('dataset/train',\n",
    "                                                 target_size = (224, 224),\n",
    "                                                 batch_size = 10,\n",
    "                                                 class_mode = 'categorical')\n",
    "\n",
    "\n",
    "\n",
    "\n",
    "test_set = test_datagen.flow_from_directory('dataset/test',\n",
    "                                            target_size = (224, 224),\n",
    "                                            batch_size = 10,\n",
    "                                            class_mode = 'categorical')"
   ]
  },
  {
   "cell_type": "code",
   "execution_count": 17,
   "id": "97e9dcad",
   "metadata": {},
   "outputs": [
    {
     "name": "stderr",
     "output_type": "stream",
     "text": [
      "C:\\Users\\PMYLS\\AppData\\Local\\Temp\\ipykernel_8404\\489756863.py:1: UserWarning: `Model.fit_generator` is deprecated and will be removed in a future version. Please use `Model.fit`, which supports generators.\n",
      "  history = model.fit_generator(training_set,validation_data=test_set,epochs=3,steps_per_epoch=len(training_set),validation_steps=len(test_set))\n"
     ]
    },
    {
     "name": "stdout",
     "output_type": "stream",
     "text": [
      "Epoch 1/3\n",
      "522/522 [==============================] - 1023s 2s/step - loss: 0.1671 - accuracy: 0.9446 - val_loss: 0.5594 - val_accuracy: 0.8750\n",
      "Epoch 2/3\n",
      "522/522 [==============================] - 1036s 2s/step - loss: 0.2124 - accuracy: 0.9427 - val_loss: 0.3298 - val_accuracy: 0.9263\n",
      "Epoch 3/3\n",
      "522/522 [==============================] - 980s 2s/step - loss: 0.1169 - accuracy: 0.9653 - val_loss: 0.3450 - val_accuracy: 0.9119\n"
     ]
    }
   ],
   "source": [
    "history = model.fit_generator(training_set,validation_data=test_set,epochs=3,steps_per_epoch=len(training_set),validation_steps=len(test_set))"
   ]
  },
  {
   "cell_type": "code",
   "execution_count": 18,
   "id": "4d7ed71d",
   "metadata": {},
   "outputs": [
    {
     "data": {
      "image/png": "[encoded data removed]",
      "text/plain": [
       "<Figure size 640x480 with 1 Axes>"
      ]
     },
     "metadata": {},
     "output_type": "display_data"
    },
    {
     "data": {
      "image/png": "[encoded data removed]",
      "text/plain": [
       "<Figure size 640x480 with 1 Axes>"
      ]
     },
     "metadata": {},
     "output_type": "display_data"
    },
    {
     "data": {
      "text/plain": [
       "<Figure size 640x480 with 0 Axes>"
      ]
     },
     "metadata": {},
     "output_type": "display_data"
    }
   ],
   "source": [
    "# plot the loss\n",
    "plt.plot(history.history['loss'], label='train loss')\n",
    "plt.plot(history.history['val_loss'], label='val loss')\n",
    "plt.legend()\n",
    "plt.show()\n",
    "plt.savefig('LossVal_loss')\n",
    "\n",
    "# plot the accuracy\n",
    "plt.plot(history.history['accuracy'], label='train acc')\n",
    "plt.plot(history.history['val_accuracy'], label='val acc')\n",
    "plt.legend()\n",
    "plt.show()\n",
    "plt.savefig('AccVal_acc')"
   ]
  },
  {
   "cell_type": "code",
   "execution_count": 22,
   "id": "dadf8dbd",
   "metadata": {},
   "outputs": [],
   "source": [
    "img=image.load_img('normal_1.jpeg',target_size=(224,224))"
   ]
  },
  {
   "cell_type": "code",
   "execution_count": 24,
   "id": "5bf56667",
   "metadata": {},
   "outputs": [],
   "source": [
    "x=image.img_to_array(img)"
   ]
  },
  {
   "cell_type": "code",
   "execution_count": 26,
   "id": "41a4e93c",
   "metadata": {},
   "outputs": [
    {
     "data": {
      "text/plain": [
       "array([[[10., 10., 10.],\n",
       "        [ 5.,  5.,  5.],\n",
       "        [ 8.,  8.,  8.],\n",
       "        ...,\n",
       "        [15., 15., 15.],\n",
       "        [11., 11., 11.],\n",
       "        [12., 12., 12.]],\n",
       "\n",
       "       [[ 9.,  9.,  9.],\n",
       "        [ 7.,  7.,  7.],\n",
       "        [ 9.,  9.,  9.],\n",
       "        ...,\n",
       "        [14., 14., 14.],\n",
       "        [ 9.,  9.,  9.],\n",
       "        [11., 11., 11.]],\n",
       "\n",
       "       [[11., 11., 11.],\n",
       "        [ 7.,  7.,  7.],\n",
       "        [ 9.,  9.,  9.],\n",
       "        ...,\n",
       "        [14., 14., 14.],\n",
       "        [13., 13., 13.],\n",
       "        [11., 11., 11.]],\n",
       "\n",
       "       ...,\n",
       "\n",
       "       [[45., 45., 45.],\n",
       "        [32., 32., 32.],\n",
       "        [20., 20., 20.],\n",
       "        ...,\n",
       "        [12., 12., 12.],\n",
       "        [13., 13., 13.],\n",
       "        [12., 12., 12.]],\n",
       "\n",
       "       [[52., 52., 52.],\n",
       "        [32., 32., 32.],\n",
       "        [22., 22., 22.],\n",
       "        ...,\n",
       "        [14., 14., 14.],\n",
       "        [14., 14., 14.],\n",
       "        [13., 13., 13.]],\n",
       "\n",
       "       [[51., 51., 51.],\n",
       "        [34., 34., 34.],\n",
       "        [23., 23., 23.],\n",
       "        ...,\n",
       "        [15., 15., 15.],\n",
       "        [12., 12., 12.],\n",
       "        [12., 12., 12.]]], dtype=float32)"
      ]
     },
     "execution_count": 26,
     "metadata": {},
     "output_type": "execute_result"
    }
   ],
   "source": [
    "x"
   ]
  },
  {
   "cell_type": "code",
   "execution_count": 27,
   "id": "c7e6d3c6",
   "metadata": {},
   "outputs": [],
   "source": [
    "x=np.expand_dims(x, axis=0)"
   ]
  },
  {
   "cell_type": "code",
   "execution_count": 29,
   "id": "2ddcfb07",
   "metadata": {},
   "outputs": [
    {
     "data": {
      "text/plain": [
       "(1, 224, 224, 3)"
      ]
     },
     "execution_count": 29,
     "metadata": {},
     "output_type": "execute_result"
    }
   ],
   "source": [
    "x.shape"
   ]
  },
  {
   "cell_type": "code",
   "execution_count": 32,
   "id": "a440fed2",
   "metadata": {},
   "outputs": [
    {
     "data": {
      "text/plain": [
       "array([[[[-113.68    , -106.779   ,  -93.939   ],\n",
       "         [-118.68    , -111.779   ,  -98.939   ],\n",
       "         [-115.68    , -108.779   ,  -95.939   ],\n",
       "         ...,\n",
       "         [-108.68    , -101.779   ,  -88.939   ],\n",
       "         [-112.68    , -105.779   ,  -92.939   ],\n",
       "         [-111.68    , -104.779   ,  -91.939   ]],\n",
       "\n",
       "        [[-114.68    , -107.779   ,  -94.939   ],\n",
       "         [-116.68    , -109.779   ,  -96.939   ],\n",
       "         [-114.68    , -107.779   ,  -94.939   ],\n",
       "         ...,\n",
       "         [-109.68    , -102.779   ,  -89.939   ],\n",
       "         [-114.68    , -107.779   ,  -94.939   ],\n",
       "         [-112.68    , -105.779   ,  -92.939   ]],\n",
       "\n",
       "        [[-112.68    , -105.779   ,  -92.939   ],\n",
       "         [-116.68    , -109.779   ,  -96.939   ],\n",
       "         [-114.68    , -107.779   ,  -94.939   ],\n",
       "         ...,\n",
       "         [-109.68    , -102.779   ,  -89.939   ],\n",
       "         [-110.68    , -103.779   ,  -90.939   ],\n",
       "         [-112.68    , -105.779   ,  -92.939   ]],\n",
       "\n",
       "        ...,\n",
       "\n",
       "        [[ -78.68    ,  -71.779   ,  -58.939003],\n",
       "         [ -91.68    ,  -84.779   ,  -71.939   ],\n",
       "         [-103.68    ,  -96.779   ,  -83.939   ],\n",
       "         ...,\n",
       "         [-111.68    , -104.779   ,  -91.939   ],\n",
       "         [-110.68    , -103.779   ,  -90.939   ],\n",
       "         [-111.68    , -104.779   ,  -91.939   ]],\n",
       "\n",
       "        [[ -71.68    ,  -64.779   ,  -51.939003],\n",
       "         [ -91.68    ,  -84.779   ,  -71.939   ],\n",
       "         [-101.68    ,  -94.779   ,  -81.939   ],\n",
       "         ...,\n",
       "         [-109.68    , -102.779   ,  -89.939   ],\n",
       "         [-109.68    , -102.779   ,  -89.939   ],\n",
       "         [-110.68    , -103.779   ,  -90.939   ]],\n",
       "\n",
       "        [[ -72.68    ,  -65.779   ,  -52.939003],\n",
       "         [ -89.68    ,  -82.779   ,  -69.939   ],\n",
       "         [-100.68    ,  -93.779   ,  -80.939   ],\n",
       "         ...,\n",
       "         [-108.68    , -101.779   ,  -88.939   ],\n",
       "         [-111.68    , -104.779   ,  -91.939   ],\n",
       "         [-111.68    , -104.779   ,  -91.939   ]]]], dtype=float32)"
      ]
     },
     "execution_count": 32,
     "metadata": {},
     "output_type": "execute_result"
    }
   ],
   "source": [
    "x"
   ]
  },
  {
   "cell_type": "code",
   "execution_count": 33,
   "id": "bb4418a5",
   "metadata": {},
   "outputs": [],
   "source": [
    "img_data=preprocess_input(x)"
   ]
  },
  {
   "cell_type": "code",
   "execution_count": 35,
   "id": "4195e364",
   "metadata": {},
   "outputs": [
    {
     "name": "stdout",
     "output_type": "stream",
     "text": [
      "1/1 [==============================] - 0s 454ms/step\n"
     ]
    }
   ],
   "source": [
    "classe=model.predict(img_data)"
   ]
  },
  {
   "cell_type": "code",
   "execution_count": 39,
   "id": "abf34f51",
   "metadata": {},
   "outputs": [],
   "source": [
    "value=classe[0][0]"
   ]
  },
  {
   "cell_type": "code",
   "execution_count": 41,
   "id": "645f2204",
   "metadata": {},
   "outputs": [
    {
     "name": "stdout",
     "output_type": "stream",
     "text": [
      "Normal\n"
     ]
    }
   ],
   "source": [
    "if(value==0):\n",
    "    print(\"Pneumonia\")\n",
    "else:\n",
    "    print(\"Normal\")\n"
   ]
  },
  {
   "cell_type": "code",
   "execution_count": null,
   "id": "89d514f2",
   "metadata": {},
   "outputs": [],
   "source": []
  }
 ],
 "metadata": {
  "kernelspec": {
   "display_name": "Python 3 (ipykernel)",
   "language": "python",
   "name": "python3"
  },
  "language_info": {
   "codemirror_mode": {
    "name": "ipython",
    "version": 3
   },
   "file_extension": ".py",
   "mimetype": "text/x-python",
   "name": "python",
   "nbconvert_exporter": "python",
   "pygments_lexer": "ipython3",
   "version": "3.11.5"
  }
 },
 "nbformat": 4,
 "nbformat_minor": 5
}
